{
  "cells": [
    {
      "cell_type": "markdown",
      "metadata": {
        "id": "AIGuIpRFAo18"
      },
      "source": [
        "# Setup\n",
        "\n",
        "Clone repo, install dependencies and check PyTorch and GPU."
      ]
    },
    {
      "cell_type": "code",
      "execution_count": null,
      "metadata": {
        "colab": {
          "base_uri": "https://localhost:8080/"
        },
        "id": "vJHNOTYfg9xb",
        "outputId": "ee3aec9f-70f7-4d04-b555-76c965d6a427"
      },
      "outputs": [
        {
          "output_type": "stream",
          "name": "stdout",
          "text": [
            "Mounted at /content/drive\n"
          ]
        }
      ],
      "source": [
        "from google.colab import drive\n",
        "drive.mount('/content/drive')"
      ]
    },
    {
      "cell_type": "code",
      "execution_count": null,
      "metadata": {
        "colab": {
          "base_uri": "https://localhost:8080/"
        },
        "id": "je1CULZzzdUh",
        "outputId": "b106cf0d-879f-4ac5-92cc-09738f736418"
      },
      "outputs": [
        {
          "name": "stdout",
          "output_type": "stream",
          "text": [
            "Cloning into 'py-motmetrics'...\n",
            "remote: Enumerating objects: 1798, done.\u001b[K\n",
            "remote: Counting objects: 100% (234/234), done.\u001b[K\n",
            "remote: Compressing objects: 100% (152/152), done.\u001b[K\n",
            "remote: Total 1798 (delta 80), reused 196 (delta 60), pack-reused 1564\u001b[K\n",
            "Receiving objects: 100% (1798/1798), 6.99 MiB | 12.28 MiB/s, done.\n",
            "Resolving deltas: 100% (1176/1176), done.\n"
          ]
        }
      ],
      "source": [
        "!git clone https://github.com/cheind/py-motmetrics"
      ]
    },
    {
      "cell_type": "code",
      "execution_count": null,
      "metadata": {
        "id": "r-0i87O1113d"
      },
      "outputs": [],
      "source": [
        "!cd /content/py-motmetrics"
      ]
    },
    {
      "cell_type": "code",
      "execution_count": null,
      "metadata": {
        "id": "D_flO6_A1nlJ"
      },
      "outputs": [],
      "source": [
        "%pip install -qr /content/py-motmetrics/requirements.txt  # install dependencies"
      ]
    },
    {
      "cell_type": "code",
      "execution_count": null,
      "metadata": {
        "id": "lg5miUPp2UyF"
      },
      "outputs": [],
      "source": [
        "!git clone https://github.com/nwojke/deep_sort.git"
      ]
    },
    {
      "cell_type": "code",
      "execution_count": null,
      "metadata": {
        "id": "taGCP-gCgqX8"
      },
      "outputs": [],
      "source": [
        "!git clone --recurse-submodules https://github.com/mikel-brostrom/yolov8_tracking.git  # clone repo\n",
        "%pip install -qr requirements.txt  # install dependencies\n",
        "%pip install thop                  # install dependencies\n",
        "\n",
        "import torch\n",
        "from IPython.display import Image, clear_output  # to display images\n",
        "\n",
        "#clear_output()\n",
        "print(f\"Setup complete. Using torch {torch.__version__} ({torch.cuda.get_device_properties(0).name if torch.cuda.is_available() else 'CPU'})\")"
      ]
    },
    {
      "cell_type": "markdown",
      "metadata": {
        "id": "1JQRVPMtA9Cr"
      },
      "source": [
        "# Download data\n",
        "\n",
        "reruirments\n"
      ]
    },
    {
      "cell_type": "code",
      "execution_count": null,
      "metadata": {
        "id": "4Acf_nRZ7yS6"
      },
      "outputs": [],
      "source": [
        "%cd /content/yolov8_tracking\n",
        "%pip install -qr requirements.txt  # install dependencies\n",
        "\n",
        "# get the test video from the repo\n",
        "#!wget -nc https://github.com/mikel-brostrom/yolov8_tracking/releases/download/v.2.0/test.avi\n",
        "# extract 3 seconds worth of video frames of it\n",
        "#!yes | ffmpeg -ss 00:00:00 -i test.avi -t 00:00:01 -vf fps=30 out.avi"
      ]
    },
    {
      "cell_type": "markdown",
      "source": [
        "#Evaluation"
      ],
      "metadata": {
        "id": "aPTsiIqUJZ8t"
      }
    },
    {
      "cell_type": "code",
      "execution_count": null,
      "metadata": {
        "id": "Xr9qw11jWwQN"
      },
      "outputs": [],
      "source": [
        " # tune ocsort for MOT16\n",
        "!python evolve.py --tracking-method ocsort --benchmark MOT16 --n-trials 100 "
      ]
    },
    {
      "cell_type": "code",
      "execution_count": null,
      "metadata": {
        "id": "SHMTLW2qn-Hc"
      },
      "outputs": [],
      "source": [
        " # tune strongsort for MOT16\n",
        "!python evolve.py --tracking-method strongsort --benchmark MOT16 --n-trials 100 "
      ]
    },
    {
      "cell_type": "markdown",
      "source": [
        "#Copy Weights"
      ],
      "metadata": {
        "id": "zfwNrB-hJsgr"
      }
    },
    {
      "cell_type": "code",
      "execution_count": null,
      "metadata": {
        "id": "Bnkufr18kYNB"
      },
      "outputs": [],
      "source": [
        "!cp /content/drive/MyDrive/Shared/crowdhuman_yolov5m.pt /content/yolov8_tracking/weights/"
      ]
    },
    {
      "cell_type": "markdown",
      "source": [
        "#Evaluation"
      ],
      "metadata": {
        "id": "ZeOyOYk8J4Su"
      }
    },
    {
      "cell_type": "code",
      "execution_count": null,
      "metadata": {
        "id": "kxGWUi5hoiFB"
      },
      "outputs": [],
      "source": [
        "#!wget https://doc-0g-4g-docs.googleusercontent.com/docs/securesc/47av32vt7bfo7bneqk3dpep7fegsrcu3/cc3uv5osch1snd2712qiu6di40medoi7/1676377050000/10113427965520346073/11732602087870485821/1gglIwqxaH2iTvy6lZlXuAcMpd_U0GCUb?e=download&ax=AB85Z1Bc6Vk1IUCZzPok7UFCjwbiCYhlbMQA2LNWc-E1XHdpnrTCGFhrdfvDkqyMKxDj-zDN8MC7S7zOca-e1xCD8CFvS0bhRX6oxz-zyUV6QsptLfH9f4vIu5bggEpWETJAz0nyn4qk3oBR8j4iluGH7o09e7dauIcH2365ClhzBBvY63-7Y_D8gVHNwuNMKawbqb0doqHNDirs3Jp7Mrs4RO0RNSxVsAO1VokLhrHuEvgcMMA1mrD_37HZvC-zNZgcqUAMYe0rUqGwJ35QDH-1kFQDIymioaxM_UifVj6Ermf5VVmud3xOJV3NoyvUYSM_jBfQ2pkWBr-kL87Phr1v1sYENtgWp-zFwJjSUFFReLLrup7dQEBoW03oip2BtUx1Pv7WThwrKr9k6eOkNhbAsLMbw_oAj4rAoVXWuQ8tE-TKTcU3y7uqO32P12xr1NzJQyTKK4GAZR8IVFS1AUZxBzjN8VUGVbmDqayFVo8cM0hI5kc0FUT3BHpsQa8hFti7DYoL9NvQKpBIC8zhLFQSpRlZYTyFeJm__WnRmWlCMrCtNz44Moz7gFMQn9nTtiYeNMI1uigQ_ON7qcwxiVvoWsqT-SEi8IR1ffvmFHxXHc1ZNNPDw1VzZ9BwdZHXXkkvaZd1BdyhDvuGsLzgyaMN7l6iqSBkgTcDdvCR60VnvdVrLyIv0khLuha8Lh3lOZNA2F6H7LXAIZfqp9-_ItjNBMa3rnR1PGkADOUebZKHefwukRMR-2Zlaf843t6vgY4h4JztqmHAs_9wzli5stRehaihzBzgJOk-u3arsDys4bAczQfbX9R7vHHYZjXFCcKwYWdhIL1zi0nPqSlP6Q9EwoQfFD9jRpw1xqw00osshCuj-IBbXuHrwvxr7Yb1DmqMRTMcoy3raVcKciwCqJVkFGvfiflOC9K9ukEUfueMWw1ZmvS-se18o9KInsQrBq0YnaSMXeA9_L0t2gskYEBFpgaxY-vs0vG45LkCPQx6qj6K2w&uuid=e52f1204-dd5a-4cb7-981f-a2b668d18511&authuser=0  /content/yolov8_tracking/weights\n",
        "!python val.py --yolo-weights /content/yolov8_tracking/weights/yolov8s-seg.pt --benchmark MOT16 --tracking-method ocsort"
      ]
    },
    {
      "cell_type": "code",
      "execution_count": null,
      "metadata": {
        "id": "TiMNZ0Oj3OJN"
      },
      "outputs": [],
      "source": [
        "!python val.py --yolo-weights /content/yolov8_tracking/weights/yolov8s-seg.pt --benchmark MOT16 --tracking-method strongsort"
      ]
    },
    {
      "cell_type": "code",
      "execution_count": null,
      "metadata": {
        "id": "L9U5yP7jDnSL"
      },
      "outputs": [],
      "source": [
        "!python val.py --yolo-weights /content/yolov8_tracking/weights/yolov8s-seg.pt --benchmark MOT15 --tracking-method bytetrack"
      ]
    },
    {
      "cell_type": "code",
      "execution_count": null,
      "metadata": {
        "id": "n_UXplGUnW8K"
      },
      "outputs": [],
      "source": [
        "#botsort\n",
        "!python val.py  --benchmark MOT16 --tracking-method botsort"
      ]
    },
    {
      "cell_type": "code",
      "execution_count": null,
      "metadata": {
        "id": "FXZFfjq9s8Pu"
      },
      "outputs": [],
      "source": [
        "#sort modified \n",
        "!python val.py --yolo-weights  yolov8s-seg.pt --benchmark MOT20 --tracking-method strongsort"
      ]
    },
    {
      "cell_type": "code",
      "execution_count": null,
      "metadata": {
        "id": "1eUjVG-skm3L"
      },
      "outputs": [],
      "source": [
        "#strongsort modified \n",
        "!python val.py --benchmark MOT17 --tracking-method strongsort"
      ]
    },
    {
      "cell_type": "code",
      "execution_count": null,
      "metadata": {
        "colab": {
          "base_uri": "https://localhost:8080/"
        },
        "id": "GOqz8_dT-MAU",
        "outputId": "6ddac832-21bf-4332-a058-88b8675d9110"
      },
      "outputs": [
        {
          "name": "stdout",
          "output_type": "stream",
          "text": [
            "/content\n"
          ]
        }
      ],
      "source": [
        "#!pwd\n",
        "!cd /content/yolov8_tracking"
      ]
    },
    {
      "cell_type": "code",
      "execution_count": null,
      "metadata": {
        "id": "mblHQD7NlbKG"
      },
      "outputs": [],
      "source": [
        "# --yolo-weights /content/yolov8_tracking/crowdhuman_yolov5m.pt,MOT16,17\n",
        "!python val.py --yolo-weights crowdhuman_yolov5m.pt --benchmark MOT17 --tracking-method strongsort"
      ]
    },
    {
      "cell_type": "code",
      "execution_count": null,
      "metadata": {
        "colab": {
          "background_save": true
        },
        "id": "xehj1e1mmnZo"
      },
      "outputs": [],
      "source": [
        "# --yolo-weights',  default=WEIGHTS / 'yolov8n.pt'\n",
        "!python val.py --benchmark MOT17 --tracking-method strongsort"
      ]
    },
    {
      "cell_type": "markdown",
      "metadata": {
        "id": "UcyGPeT9jPtP"
      },
      "source": [
        "# run Tracking"
      ]
    },
    {
      "cell_type": "code",
      "execution_count": null,
      "metadata": {
        "id": "4yEraJfKhBku"
      },
      "outputs": [],
      "source": [
        "#--yolo-weights /content/yolov8_tracking/weights/yolov8s-seg.pt --benchmark MOT16 --tracking-method strongsort\n",
        "!python track.py --yolo-weights /content/yolov8_tracking/weights/yolov8s-seg.pt --reid-weights strongsort --source /content/drive/MyDrive/videos/MOT17-02-DPM.mp4 --save-vid"
      ]
    },
    {
      "cell_type": "markdown",
      "metadata": {
        "id": "oqIP5shr9HQd"
      },
      "source": [
        "## Run inference on video\n",
        "\n",
        "The ``cv2.imshow()`` and ``cv.imshow()`` functions from the [opencv-python](https://github.com/skvark/opencv-python) package are incompatible with Jupyter notebook; see https://github.com/jupyter/notebook/issues/3935. \n",
        "\n",
        "Hence we chose to save it to file in this notebook. Locally you can use the ``--show-vid`` flag in order visualize the tracking in real-time"
      ]
    },
    {
      "cell_type": "markdown",
      "metadata": {
        "id": "vd-CFrVGBoEU"
      },
      "source": [
        "# Show results\n"
      ]
    },
    {
      "cell_type": "code",
      "execution_count": null,
      "metadata": {
        "id": "Q-4tlUaCBjDC"
      },
      "outputs": [],
      "source": [
        "!ffmpeg -i /content/yolov8_tracking/runs/track/exp/MOT17-02-DPM.mp4 -vf fps=30 -vcodec libx264 output.mp4"
      ]
    },
    {
      "cell_type": "code",
      "execution_count": null,
      "metadata": {
        "id": "-ObuFb7dBwxK"
      },
      "outputs": [],
      "source": [
        "from IPython.display import HTML\n",
        "from base64 import b64encode\n",
        "mp4 = open('output.mp4','rb').read()\n",
        "data_url = \"data:video/mp4;base64,\" + b64encode(mp4).decode()"
      ]
    },
    {
      "cell_type": "code",
      "execution_count": null,
      "metadata": {
        "id": "RyXr0xsZB897"
      },
      "outputs": [],
      "source": [
        "HTML(\"\"\"\n",
        "<video controls>\n",
        "      <source src=\"%s\" type=\"video/mp4\">\n",
        "</video>\n",
        "\"\"\" % data_url)"
      ]
    }
  ],
  "metadata": {
    "accelerator": "GPU",
    "colab": {
      "provenance": []
    },
    "gpuClass": "standard",
    "kernelspec": {
      "display_name": "Python 3",
      "name": "python3"
    },
    "language_info": {
      "name": "python"
    }
  },
  "nbformat": 4,
  "nbformat_minor": 0
}